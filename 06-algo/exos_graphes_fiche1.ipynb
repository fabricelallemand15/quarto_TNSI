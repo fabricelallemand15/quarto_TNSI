{
 "cells": [
  {
   "attachments": {},
   "cell_type": "markdown",
   "metadata": {},
   "source": [
    "# Exercices : Parcours de graphes"
   ]
  },
  {
   "attachments": {},
   "cell_type": "markdown",
   "metadata": {},
   "source": [
    "## Exercice 1\n",
    "\n",
    "Voici quatre animations qui représentent 4 parcours différents sur le même graphe à partir du sommet 'A'.\n",
    "\n",
    "Repérer le parcours qui correspond bien à un parcours en profondeur du graphe à partir du sommet 'A'.\n",
    "\n",
    "Expliquer pourquoi les autres parcours ne sont pas un parcours en profondeur du graphe à partir du sommet 'A'.\n",
    "\n",
    "Parcours 1 :\n",
    "\n",
    "![Parcours 1](https://monlyceenumerique.fr/nsi_terminale/a/img/a2_reperer_profondeur_1.gif)\n",
    "\n",
    "\n",
    "Parcours 2 :\n",
    "\n",
    "![Parcours 2](https://monlyceenumerique.fr/nsi_terminale/a/img/a2_reperer_profondeur_2.gif)\n",
    "\n",
    "Parcours 3 :\n",
    "\n",
    "![Parcours 3](https://monlyceenumerique.fr/nsi_terminale/a/img/a2_reperer_profondeur_3.gif)\n",
    "\n",
    "Parcours 4 :\n",
    "\n",
    "![Parcours 4](https://monlyceenumerique.fr/nsi_terminale/a/img/a2_reperer_profondeur_4.gif)\n"
   ]
  },
  {
   "cell_type": "code",
   "execution_count": 15,
   "metadata": {},
   "outputs": [],
   "source": [
    "# Votre réponse ici\n"
   ]
  },
  {
   "attachments": {},
   "cell_type": "markdown",
   "metadata": {},
   "source": [
    "## Exercice 2\n",
    "\n",
    "Devant tant d'efforts pour comprendre les parcours, vous rêvez de partir en voyage sur le continent sud-américiain. Mais quel parcours effectuer pour visiter tous les pays de l'Amérique du Sud ?\n",
    "\n",
    "Vous allez dans cet exercice :\n",
    "\n",
    "* utiliser un graphe implémenté comme dictionnaire avec la liste des successeurs, représentant les pays frontaliers d'Amérique du Sud,\n",
    "* programmer un parcours en profondeur,\n",
    "* l'appliquer au voyage de votre rêve !\n",
    "\n",
    "Voici la carte des pays du continent sud-américain :\n",
    "\n",
    "![](a2_carte_amerique_sud_pays.png)\n",
    "\n",
    "On considère le dictionnaire suivant qui permet d'associer à chaque pays d'Amérique du Sud la liste des pays partageant une frontière terrestre."
   ]
  },
  {
   "cell_type": "code",
   "execution_count": 16,
   "metadata": {},
   "outputs": [],
   "source": [
    "G = {}\n",
    "G[\"France\"] = [\"Brésil\",\"Suriname\"]\n",
    "G[\"Argentine\"] = [\"Bolivie\",\"Brésil\",\"Chili\",\"Paraguay\",\"Uruguay\"]\n",
    "G[\"Bolivie\"] = [\"Argentine\",\"Brésil\",\"Chili\",\"Paraguay\",\"Pérou\",\"Uruguay\"]\n",
    "G[\"Brésil\"] = [\"Argentine\",\"Bolivie\",\"Colombie\",\"France\",\"Guyana\",\"Paraguay\",\"Pérou\",\"Suriname\",\"Uruguay\",\"Venezuela\"]\n",
    "G[\"Chili\"]=[\"Argentine\",\"Bolivie\",\"Pérou\"]\n",
    "G[\"Colombie\"] = [\"Brésil\",\"Équateur\",\"Pérou\",\"Venezuela\"]\n",
    "G[\"Équateur\"] = [\"Colombie\",\"Pérou\"]\n",
    "G[\"Guyana\"] = [\"Brésil\",\"Suriname\",\"Venezuela\"]\n",
    "G[\"Paraguay\"] = [\"Argentine\",\"Bolivie\",\"Brésil\"]\n",
    "G[\"Pérou\"] = [\"Bolivie\",\"Brésil\",\"Chili\",\"Colombie\",\"Équateur\"]\n",
    "G[\"Suriname\"] = [\"Brésil\",\"France\",\"Guyana\"]\n",
    "G[\"Uruguay\"] = [\"Argentine\",\"Bolivie\",\"Brésil\"]\n",
    "G[\"Venezuela\"] = [\"Brésil\",\"Colombie\",\"Guyana\"]"
   ]
  },
  {
   "cell_type": "markdown",
   "metadata": {},
   "source": [
    "       \n",
    "Pour savoir quels sommets ont déjà été visités ou non, vous allez utiliser un dictionnaire dont les clés seront les sommets du graphe et les valeurs associées seront les chaînes de caractères soit \"inconnu\", soit \"visite\"\n",
    "\n",
    "1. Créer une fonction initialiser qui prend comme paramètre un graphe et renvoie un dictionnaire dont les clés sont les sommets du graphe et la valeur est toujours \"inconnu\"."
   ]
  },
  {
   "cell_type": "code",
   "execution_count": 17,
   "metadata": {},
   "outputs": [],
   "source": [
    "# Votre code ci-dessous\n"
   ]
  },
  {
   "attachments": {},
   "cell_type": "markdown",
   "metadata": {},
   "source": [
    "2. Créer une fonction visiter qui prend comme paramètre le dictionnaire associant à chaque sommet son état de connaissance et un sommet du graphe, fonction qui renvoie le dictionnaire de connaissance où la valeur associée au sommet entré est mise à 'visite'"
   ]
  },
  {
   "cell_type": "code",
   "execution_count": 18,
   "metadata": {},
   "outputs": [],
   "source": [
    "# Votre code ci-dessous\n"
   ]
  },
  {
   "attachments": {},
   "cell_type": "markdown",
   "metadata": {},
   "source": [
    "3. Écrire en langage Python la procédure récursive ``parcours_longueur_rec`` correspondant à un parcours en profondeur en faisant aussi en sorte que chaque sommet qui vient d'être marqué soit affiché.\n",
    "\n",
    "Cette procédure prend en argument un graphe et un sommet de ce graphe, sommet servant de point de départ au parcours.\n",
    "\n",
    "Gérer l'affichage à l'aide de l'instruction ``print``."
   ]
  },
  {
   "cell_type": "code",
   "execution_count": 19,
   "metadata": {},
   "outputs": [],
   "source": [
    "# Votre code ci-dessous\n"
   ]
  },
  {
   "attachments": {},
   "cell_type": "markdown",
   "metadata": {},
   "source": [
    "4. Appliquer cette procédure au graphe modélisant les pays d'Amérique du Sud en prenant comme racine, c'est-à-dire sommet de départ la France (pour la Guyane Française). À la lecture de tous les pays que vous allez visiter, vous allez être profondément heureux.ses."
   ]
  },
  {
   "cell_type": "code",
   "execution_count": 20,
   "metadata": {},
   "outputs": [],
   "source": [
    "# Votre code ci-dessous\n"
   ]
  },
  {
   "attachments": {},
   "cell_type": "markdown",
   "metadata": {},
   "source": [
    "## Exercice 3\n",
    "\n",
    "Dans cet exercice, nous reprenons la situation de l'exercice précédent, mais nous allons utiliser un parcours en largeur. De plus, le graphe sera maintenant implémenté avec le module Networkx.\n",
    "\n",
    "Vous prendrez une liste Python en guise de file en considérant que la tête de la file correspond au premier élément de la liste.\n",
    "\n",
    "Le graphe sera supposé être un objet de la classe Graph() de la bibliothèque Networkx ; ceci permettra d'utiliser les méthodes de cette bibliothèque, comme :\n",
    "\n",
    "* ``graphe.neighbors(v)`` qui permet d'obtenir les voisins d'un sommet ``v`` du graphe ``graphe``,\n",
    "\n",
    "* vous pourrez transtyper en liste l'itérable les voisins d'un sommet donné grâce à list (comme fait dans le cours : ``list(graphe.neighbors(v))``).\n",
    "\n",
    "1. Écrire en langage Python une fonction ``parcours_largeur`` qui met en œuvre l'algorithme de parcours en largeur d'un graphe à partir d'un sommet donné."
   ]
  },
  {
   "cell_type": "code",
   "execution_count": 21,
   "metadata": {},
   "outputs": [],
   "source": [
    "# Votre code ci-dessous\n"
   ]
  },
  {
   "attachments": {},
   "cell_type": "markdown",
   "metadata": {},
   "source": [
    "2. Tester cet algorithme de parcours en profondeur en prenant le graphe sur les pays d'Amérique du Sud."
   ]
  },
  {
   "cell_type": "code",
   "execution_count": 22,
   "metadata": {},
   "outputs": [],
   "source": [
    "# Votre code ci-dessous\n"
   ]
  },
  {
   "attachments": {},
   "cell_type": "markdown",
   "metadata": {},
   "source": [
    "3. En vous aidant de la carte de l'Amérique du Sud ci-dessus, vérifier que la liste renvoyée correspond bien à un parcours en largeur."
   ]
  },
  {
   "cell_type": "code",
   "execution_count": 23,
   "metadata": {},
   "outputs": [],
   "source": [
    "# Votre réponse ci-dessous\n"
   ]
  }
 ],
 "metadata": {
  "kernelspec": {
   "display_name": "Python 3",
   "language": "python",
   "name": "python3"
  },
  "language_info": {
   "codemirror_mode": {
    "name": "ipython",
    "version": 3
   },
   "file_extension": ".py",
   "mimetype": "text/x-python",
   "name": "python",
   "nbconvert_exporter": "python",
   "pygments_lexer": "ipython3",
   "version": "3.11.2"
  },
  "orig_nbformat": 4
 },
 "nbformat": 4,
 "nbformat_minor": 2
}
