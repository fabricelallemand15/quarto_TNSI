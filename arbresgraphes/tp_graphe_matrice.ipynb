{
 "cells": [
  {
   "attachments": {},
   "cell_type": "markdown",
   "metadata": {},
   "source": [
    "---\n",
    "title: TP - Implémentation des graphes par matrice d'adjacence\n",
    "---\n",
    "\n",
    "[**Cliquer ici pour accéder à la version notebook de ce TP dans Capytale**](https://capytale2.ac-paris.fr/web/c/d30c-1430856)\n",
    "\n",
    "On considère un graphe $G$ dont les sommets sont les entiers de $0$ à $n-1$ et les arêtes sont les couples d'entiers $(i,j)$ avec $0\\leq i,j\\leq n-1$.\n",
    "\n",
    "L'objectif de ce TP est d'implémenter les graphes en python par matrice d'adjacence.\n",
    "\n",
    "**On considère ici que les graphes sont non orientés.**"
   ]
  },
  {
   "attachments": {},
   "cell_type": "markdown",
   "metadata": {},
   "source": [
    "\n",
    "## Implémentation simple\n",
    "\n",
    "**Question 1** : Fonction permettant de créer un graphe comportant $n$ sommets et pas d'arêtes."
   ]
  },
  {
   "cell_type": "code",
   "execution_count": null,
   "metadata": {},
   "outputs": [],
   "source": [
    "def make_graph(n: int) -> list:\n",
    "    \"\"\"Crée la matrice d'adjacence d'un graphe de n sommets sans arêtes\"\"\"\n",
    "    g = []\n",
    "    # Compléter ci dessous\n",
    "    \n",
    "    return g"
   ]
  },
  {
   "cell_type": "code",
   "execution_count": null,
   "metadata": {},
   "outputs": [],
   "source": [
    "# Test de la fonction make_graph\n",
    "\n",
    "g = make_graph(5)\n",
    "print(g)"
   ]
  },
  {
   "attachments": {},
   "cell_type": "markdown",
   "metadata": {},
   "source": [
    "**Question 2** : Fonction permettant d'ajouter une arête entre les sommets $i$ et $j$."
   ]
  },
  {
   "cell_type": "code",
   "execution_count": null,
   "metadata": {},
   "outputs": [],
   "source": [
    "def add_edge(g: list, i: int, j: int) -> None:\n",
    "    \"\"\"Ajoute l'arête (i,j) au graphe g\"\"\"\n",
    "    pass"
   ]
  },
  {
   "attachments": {},
   "cell_type": "markdown",
   "metadata": {},
   "source": [
    "**Question 3 - Application** : en utilisant les deux fonctions précédentes, créer une variable `g` représentant le graphe suivant :\n",
    "\n",
    "![graphe 1](graphe_tp1.png){width=50%}"
   ]
  },
  {
   "cell_type": "code",
   "execution_count": null,
   "metadata": {},
   "outputs": [],
   "source": [
    "# Entrer votre code ici\n"
   ]
  },
  {
   "cell_type": "code",
   "execution_count": null,
   "metadata": {},
   "outputs": [],
   "source": [
    "# Vérification\n",
    "assert g == [[1, 1, 1, 0, 0], [1, 0, 1, 1, 0], [1, 1, 0, 1, 1], [0, 1, 1, 0, 1], [0, 0, 1, 1, 0]]\n",
    "print(\"Test réussi !\")"
   ]
  },
  {
   "attachments": {},
   "cell_type": "markdown",
   "metadata": {},
   "source": [
    "**Question 4** : Compléter la fonction `remove_edge` permettant de supprimer une arête entre les sommets $i$ et $j$."
   ]
  },
  {
   "cell_type": "code",
   "execution_count": null,
   "metadata": {},
   "outputs": [],
   "source": [
    "def remove_edge(g: list, i: int, j: int) -> None:\n",
    "    \"\"\"Supprime l'arête (i,j) du graphe g\"\"\"\n",
    "    pass"
   ]
  },
  {
   "cell_type": "code",
   "execution_count": null,
   "metadata": {},
   "outputs": [],
   "source": [
    "# Test de la fonction remove_edge\n",
    "from copy import deepcopy\n",
    "\n",
    "h = deepcopy(g)\n",
    "remove_edge(h, 0, 1)\n",
    "assert h == [[1, 0, 1, 0, 0], [0, 0, 1, 1, 0], [1, 1, 0, 1, 1], [0, 1, 1, 0, 1], [0, 0, 1, 1, 0]]\n",
    "print(\"Test réussi !\")"
   ]
  },
  {
   "attachments": {},
   "cell_type": "markdown",
   "metadata": {},
   "source": [
    "**Question 5** : Compléter les fonctions `add_vertex` et `remove_vertex` permettant d'ajouter un sommet et de supprimer un sommet dans un graphe. On rappelle que les sommets sont des entiers successifs. Par exemple, si on supprime le sommet $2$, les sommets $3$ et $4$ deviennent les sommets $2$ et $3$. Par ailleurs, le sommet ajouté par la fonction `add_vertex` doit être le plus grand sommet du graphe."
   ]
  },
  {
   "cell_type": "code",
   "execution_count": null,
   "metadata": {},
   "outputs": [],
   "source": [
    "def add_vertex(g: list) -> None:\n",
    "    \"\"\"Ajoute un sommet à un graphe g\"\"\"\n",
    "    pass\n",
    "\n",
    "def remove_vertex(g: list, i: int) -> None:\n",
    "    \"\"\"Supprime le sommet i du graphe g\"\"\"\n",
    "    pass"
   ]
  },
  {
   "cell_type": "code",
   "execution_count": null,
   "metadata": {},
   "outputs": [],
   "source": [
    "# Test de la fonction add_vertex\n",
    "h = deepcopy(g)\n",
    "add_vertex(h)\n",
    "assert h == [[1, 1, 1, 0, 0, 0], [1, 0, 1, 1, 0, 0], [1, 1, 0, 1, 1, 0], [0, 1, 1, 0, 1, 0], [0, 0, 1, 1, 0, 0], [0, 0, 0, 0, 0, 0]]\n",
    "print(\"Test réussi !\")"
   ]
  },
  {
   "cell_type": "code",
   "execution_count": null,
   "metadata": {},
   "outputs": [],
   "source": [
    "# Test de la fonction remove_vertex\n",
    "remove_vertex(h, 5)\n",
    "assert h == [[1, 1, 1, 0, 0], [1, 0, 1, 1, 0], [1, 1, 0, 1, 1], [0, 1, 1, 0, 1], [0, 0, 1, 1, 0]]\n",
    "print(\"Test réussi !\")"
   ]
  },
  {
   "attachments": {},
   "cell_type": "markdown",
   "metadata": {},
   "source": [
    "**Question 6** : Compléter la fonction `est_adjacent` qui prend en paramètre un graphe `g` et deux sommets `i` et `j` et qui renvoie `True` si les sommets sont adjacents et `False` sinon."
   ]
  },
  {
   "cell_type": "code",
   "execution_count": null,
   "metadata": {},
   "outputs": [],
   "source": [
    "def is_adjacent(g: list, i: int, j: int) -> bool:\n",
    "    \"\"\"Renvoie True si les sommets i et j sont adjacents, False sinon\"\"\"\n",
    "    pass"
   ]
  },
  {
   "cell_type": "code",
   "execution_count": null,
   "metadata": {},
   "outputs": [],
   "source": [
    "# Test de la fonction is_adjacent\n",
    "assert is_adjacent(g, 0, 1) == True\n",
    "assert is_adjacent(g, 0, 4) == False\n",
    "print(\"Test réussi !\")"
   ]
  },
  {
   "attachments": {},
   "cell_type": "markdown",
   "metadata": {},
   "source": [
    "**Question 7** : Compléter la fonction `neighbors` qui prend en paramètre un graphe `g` et un sommet `i` et qui renvoie la liste des sommets adjacents au sommet `i`, puis la fonction `degree` qui prend en paramètre un graphe `g` et un sommet `i` et qui renvoie le degré du sommet `i`."
   ]
  },
  {
   "cell_type": "code",
   "execution_count": null,
   "metadata": {},
   "outputs": [],
   "source": [
    "def neighbors(g: list, i: int) -> list:\n",
    "    \"\"\"Renvoie la liste des sommets autres que i \n",
    "       adjacents au sommet i\"\"\"\n",
    "    pass\n",
    "\n",
    "def degree(g: list, i: int) -> int:\n",
    "    \"\"\"Renvoie le degré du sommet i\"\"\"\n",
    "    pass"
   ]
  },
  {
   "cell_type": "code",
   "execution_count": null,
   "metadata": {},
   "outputs": [],
   "source": [
    "# Test de la fonction neighbors\n",
    "assert neighbors(g, 0) == [1, 2]\n",
    "assert neighbors(g, 1) == [0, 2, 3]\n",
    "\n",
    "# Test de la fonction degree\n",
    "assert degree(g, 0) == 2\n",
    "assert degree(g, 1) == 3\n",
    "print(\"Test réussi !\")"
   ]
  },
  {
   "attachments": {},
   "cell_type": "markdown",
   "metadata": {},
   "source": [
    "## Implémentation objet\n",
    "\n",
    "**Question 8** : Créer une classe `Graph` permettant de représenter un graphe sous la forme d'une matrice d'adjacence, en reformulant les fonctions définies dans la partie précédente. Cette classe doit contenir les attributs suivants :\n",
    "\n",
    "* `order` : nombre de sommets du graphe\n",
    "* `matrix` : matrice d'adjacence du graphe\n",
    "\n",
    "Cette classe doit contenir les méthodes suivantes :\n",
    "\n",
    "* `__init__` : constructeur de la classe\n",
    "* `add_edge` : ajoute une arête entre les sommets `i` et `j`\n",
    "* `remove_edge` : supprime une arête entre les sommets `i` et `j`\n",
    "* `add_vertex` : ajoute un sommet au graphe\n",
    "* `remove_vertex` : supprime un sommet du graphe\n",
    "* `is_adjacent` : renvoie `True` si les sommets `i` et `j` sont adjacents et `False` sinon\n",
    "* `neighbors` : renvoie la liste des sommets adjacents au sommet `i`\n",
    "* `degree` : renvoie le degré du sommet `i`\n",
    "* `__str__` : renvoie une chaîne de caractères représentant le graphe en affichant les lignes de la matrice d'adjacence l'une en dessous de l'autre.\n"
   ]
  },
  {
   "cell_type": "code",
   "execution_count": null,
   "metadata": {},
   "outputs": [],
   "source": [
    "class Graph:\n",
    "\n",
    "    pass"
   ]
  },
  {
   "attachments": {},
   "cell_type": "markdown",
   "metadata": {},
   "source": [
    "**Question 9 - Application** : en utilisant la classe `Graph`, créer une variable `g` représentant le graphe suivant :\n",
    "\n",
    "![graphe 2](grpahe1.png){width=50%}\n",
    "\n",
    "Déterminer la liste des voisins du sommet $2$."
   ]
  },
  {
   "cell_type": "code",
   "execution_count": null,
   "metadata": {},
   "outputs": [],
   "source": [
    "# Entrer votre code ici\n"
   ]
  },
  {
   "attachments": {},
   "cell_type": "markdown",
   "metadata": {},
   "source": [
    "**Bonus** : Implémenter une fonction `draw_graph` permettant de dessiner un graphe à partir de sa matrice d'adjacence.\n",
    "\n",
    "Pour cela, on utilisera le module `networkx` qui est spécialisé dans l'analyse des graphes. Il s'agit donc de définir un graphe de type `networkx` à partir de la matrice d'adjacence du graphe et de le dessiner à l'aide de la fonction `draw` du module `networkx`."
   ]
  },
  {
   "cell_type": "code",
   "execution_count": null,
   "metadata": {},
   "outputs": [],
   "source": [
    "# Imports nécessaires\n",
    "import networkx as nx"
   ]
  },
  {
   "attachments": {},
   "cell_type": "markdown",
   "metadata": {},
   "source": [
    "Quelques commandes utiles :\n",
    "\n",
    "* g = nx.Graph() : création d'un graphe vide\n",
    "* g.add_node(i) : ajoute le sommet `i` au graphe `g`\n",
    "* g.add_edge(i,j) : ajoute une arête entre les sommets `i` et `j`\n",
    "* nx.draw(g) : dessine le graphe `g`"
   ]
  },
  {
   "cell_type": "code",
   "execution_count": null,
   "metadata": {},
   "outputs": [],
   "source": [
    "def draw_graph(g: Graph) -> None:\n",
    "    \"\"\"Dessine le graphe g\"\"\"\n",
    "    # Création du graphe\n",
    "    G = nx.Graph()\n",
    "    # Compléter ci-dessous pour définir un graphe G au format nx correspondant à g\n",
    "\n",
    "    \n",
    "    # Dessin du graphe\n",
    "    nx.draw(G, with_labels=True, node_color='white', font_size=18, edgecolors='black', node_size=500)"
   ]
  },
  {
   "cell_type": "code",
   "execution_count": null,
   "metadata": {},
   "outputs": [],
   "source": [
    "# Vérification de la fonction draw_graph\n",
    "draw_graph(g)"
   ]
  }
 ],
 "metadata": {
  "kernelspec": {
   "display_name": "Python 3",
   "language": "python",
   "name": "python3"
  },
  "language_info": {
   "codemirror_mode": {
    "name": "ipython",
    "version": 3
   },
   "file_extension": ".py",
   "mimetype": "text/x-python",
   "name": "python",
   "nbconvert_exporter": "python",
   "pygments_lexer": "ipython3",
   "version": "3.11.2"
  },
  "orig_nbformat": 4,
  "vscode": {
   "interpreter": {
    "hash": "e7370f93d1d0cde622a1f8e1c04877d8463912d04d973331ad4851f04de6915a"
   }
  }
 },
 "nbformat": 4,
 "nbformat_minor": 2
}
