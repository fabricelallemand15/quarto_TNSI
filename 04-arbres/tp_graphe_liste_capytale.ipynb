{
 "cells": [
  {
   "attachments": {},
   "cell_type": "markdown",
   "metadata": {},
   "source": [
    "# TP - Implémentation des graphes par liste d'adjacence\n",
    "\n",
    "On considère un graphe $G$ dont les sommets sont les entiers de $0$ à $n-1$ et les arêtes sont les couples d'entiers $(i,j)$ avec $0\\leq i,j\\leq n-1$.\n",
    "\n",
    "L'objectif de ce TP est d'implémenter les graphes en python par liste d'adjacence.\n",
    "\n",
    "**On considère ici que les graphes sont non orientés.**"
   ]
  },
  {
   "attachments": {},
   "cell_type": "markdown",
   "metadata": {},
   "source": [
    "## 1. Implémentation objet\n",
    "\n",
    "Créer une classe `Graph` qui permet de représenter un graphe par liste d'adjacence.\n",
    "\n",
    "La classe `Graph` doit contenir les attributs suivants :\n",
    "\n",
    "  * `order` : le nombre de sommets du graphe\n",
    "  * `liste` : une liste de listes d'entiers représentant la liste d'adjacence du graphe\n",
    "\n",
    "La classe `Graph` doit contenir les méthodes suivantes :\n",
    "\n",
    "* `__init__` : initialise un graphe vide de taille `order`\n",
    "* `add_edge` : ajoute l'arête $(i,j)$ au graphe\n",
    "* `remove_edge` : supprime l'arête $(i,j)$ du graphe\n",
    "* `add_vertex` : ajoute un sommet au graphe\n",
    "* `remove_vertex` : supprime le sommet `i` du graphe\n",
    "* `is_adjacent` : retourne `True` si les sommets `i` et `j` sont adjacents, `False` sinon\n",
    "* `neighbors` : retourne la liste des voisins du sommet `i`\n",
    "* `degree` : retourne le degré du sommet `i`\n",
    "* `__str__` : retourne une chaîne de caractères représentant le graphe (afficher sur chaque ligne le numéro du sommet suivi de la liste de ses voisins)\n",
    "* `draw` : dessine le graphe (s'inspirer du TP précédent !)"
   ]
  },
  {
   "cell_type": "code",
   "execution_count": null,
   "metadata": {},
   "outputs": [],
   "source": [
    "import networkx as nx\n",
    "\n",
    "class Graph:\n",
    "\n",
    "    pass"
   ]
  },
  {
   "cell_type": "code",
   "execution_count": null,
   "metadata": {},
   "outputs": [],
   "source": [
    "# Exemple d'utilisation\n",
    "\n",
    "g = Graph(5)\n",
    "g.add_edge(0, 3)\n",
    "g.add_edge(1, 2)\n",
    "g.add_edge(1, 4)\n",
    "g.add_edge(2, 3)\n",
    "g.add_edge(2, 4)\n",
    "g.add_edge(3, 4)\n",
    "print(g)\n",
    "g.draw()"
   ]
  },
  {
   "attachments": {},
   "cell_type": "markdown",
   "metadata": {},
   "source": [
    "## Passage d'une représentation à l'autre\n",
    "\n",
    "On considère un graphe $G$ représenté par liste d'adjacence. On souhaite passer à une représentation par matrice d'adjacence.\n",
    "\n",
    "Compléter la fonction `list_to_matrix` qui prend en paramètre une liste d'adjacence d'un graphe `G` et retourne la matrice d'adjacence représentant le graphe."
   ]
  },
  {
   "cell_type": "code",
   "execution_count": null,
   "metadata": {},
   "outputs": [],
   "source": [
    "def list_to_matrix(liste):\n",
    "    pass"
   ]
  },
  {
   "cell_type": "code",
   "execution_count": null,
   "metadata": {},
   "outputs": [],
   "source": [
    "# Test de la fonction list_to_matrix\n",
    "matrice = list_to_matrix(g.liste)\n",
    "assert matrice == [[0, 0, 0, 1, 0], [0, 0, 1, 0, 1], [0, 1, 0, 1, 1], [1, 0, 1, 0, 1], [0, 1, 1, 1, 0]]\n",
    "print(\"Test réussi !\")"
   ]
  },
  {
   "attachments": {},
   "cell_type": "markdown",
   "metadata": {},
   "source": [
    "Opération inverse : compléter la fonction `matrix_to_list` qui prend en paramètre une matrice d'adjacence d'un graphe `G` et retourne la liste d'adjacence représentant le graphe."
   ]
  },
  {
   "cell_type": "code",
   "execution_count": null,
   "metadata": {},
   "outputs": [],
   "source": [
    "def matrix_to_list(matrice):\n",
    "    pass"
   ]
  },
  {
   "cell_type": "code",
   "execution_count": null,
   "metadata": {},
   "outputs": [],
   "source": [
    "# Test de la fonction matrix_to_list\n",
    "liste = matrix_to_list(matrice)\n",
    "assert liste == [[3], [2, 4], [1, 3, 4], [0, 2, 4], [1, 2, 3]]\n",
    "print(\"Test réussi !\")"
   ]
  }
 ],
 "metadata": {
  "kernelspec": {
   "display_name": "Python 3",
   "language": "python",
   "name": "python3"
  },
  "language_info": {
   "codemirror_mode": {
    "name": "ipython",
    "version": 3
   },
   "file_extension": ".py",
   "mimetype": "text/x-python",
   "name": "python",
   "nbconvert_exporter": "python",
   "pygments_lexer": "ipython3",
   "version": "3.11.2"
  },
  "orig_nbformat": 4,
  "vscode": {
   "interpreter": {
    "hash": "e7370f93d1d0cde622a1f8e1c04877d8463912d04d973331ad4851f04de6915a"
   }
  }
 },
 "nbformat": 4,
 "nbformat_minor": 2
}
