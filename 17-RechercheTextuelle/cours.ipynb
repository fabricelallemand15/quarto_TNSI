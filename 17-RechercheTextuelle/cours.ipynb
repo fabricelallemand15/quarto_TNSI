{
 "cells": [
  {
   "cell_type": "markdown",
   "metadata": {},
   "source": [
    "---\n",
    "subtitle: \"Chapitre 17 : Recherche textuelle\"\n",
    "title: \"Cours\"\n",
    "---\n",
    "\n",
    "# 1. Introduction\n",
    "\n",
    ":::{.callout-important}\n",
    "## Objectif de la recherche textuelle\n",
    "On considère deux chaînes de caractères, l'une appelée ``texte`` et l'autre ``motif``. On cherche dans ``texte`` s'il existe une occurrence du motif ``motif``.\n",
    "\n",
    "Autrement dit, avec les notations de Python, on cherche s'il existe un indice ``i`` tel que ``texte[i:i+len(motif)] == motif``.\n",
    ":::"
   ]
  },
  {
   "cell_type": "markdown",
   "metadata": {},
   "source": [
    "\n",
    "\n",
    "Plusieurs algorithmes ont été inventés pour résoudre ce problème, un des plus connus est l’algorithme de Knuth, Morris, Pratt, qui ne\n",
    "figure pas au programme. Un autre algorithme, très efficace, est l’algorithme de Boyer et Moore, qui a été inventé en 1977. Boyer\n",
    "et Moore travaillaient alors à l’université d’Austin au Texas en tant qu’informaticiens.\n",
    "\n",
    "Dans la suite, ``texte`` correspond au texte intégral du roman *Le Rouge et le Noir* de Stendhal, au format ``txt`` encodé en UTF-8. "
   ]
  },
  {
   "cell_type": "code",
   "execution_count": 5,
   "metadata": {},
   "outputs": [],
   "source": [
    "fichier = open(\"LeRougeEtLeNoir.txt\" , \"r\", encoding=\"utf-8\")\n",
    "texte = fichier.read()\n",
    "fichier.close()"
   ]
  },
  {
   "cell_type": "markdown",
   "metadata": {},
   "source": [
    "Compléter la cellule ci-dessous pour obtenir la taille du texte en carcatères."
   ]
  },
  {
   "cell_type": "code",
   "execution_count": 2,
   "metadata": {},
   "outputs": [
    {
     "name": "stdout",
     "output_type": "stream",
     "text": [
      "1027755\n"
     ]
    }
   ],
   "source": [
    "print(len(texte))"
   ]
  },
  {
   "cell_type": "markdown",
   "metadata": {},
   "source": [
    "Avant d'aller plus loin, remarquons qu'il existe une fonction Python qui répond à notre problème : il s'agit de la méthode ``find`` de l'objet ``str``. Par exemple, le code ci-dessous renvoie l'indice de la première occurrence du motif ``Julien trembla`` dans le texte."
   ]
  },
  {
   "cell_type": "code",
   "execution_count": 3,
   "metadata": {},
   "outputs": [
    {
     "name": "stdout",
     "output_type": "stream",
     "text": [
      "162926\n"
     ]
    }
   ],
   "source": [
    "print(texte.find(\"Julien trembla\"))"
   ]
  },
  {
   "cell_type": "markdown",
   "metadata": {},
   "source": [
    "L'indice retourné est celui de la première lettre du motif dans le texte : "
   ]
  },
  {
   "cell_type": "code",
   "execution_count": 6,
   "metadata": {},
   "outputs": [
    {
     "name": "stdout",
     "output_type": "stream",
     "text": [
      "Julien tremblait que sa demande ne\n"
     ]
    }
   ],
   "source": [
    "print(texte[162926:162960])"
   ]
  },
  {
   "cell_type": "markdown",
   "metadata": {},
   "source": [
    "Si le motif recherché n'apparaît pas dans le texte, alors la fonction ``find`` renvoie ``-1``."
   ]
  },
  {
   "cell_type": "code",
   "execution_count": 7,
   "metadata": {},
   "outputs": [
    {
     "name": "stdout",
     "output_type": "stream",
     "text": [
      "-1\n"
     ]
    }
   ],
   "source": [
    "print(texte.find(\"Goldorak\"))"
   ]
  },
  {
   "cell_type": "markdown",
   "metadata": {},
   "source": [
    "Une variante de la fonction ``find`` prend deux arguments : le second argument est la position de départ dans la recherche.\n",
    "\n",
    "Compléter le code suivant, utilisant cette variante, pour déterminer le **nombre d'occurrences** de ``motif`` dans ``texte``."
   ]
  },
  {
   "cell_type": "code",
   "execution_count": 8,
   "metadata": {},
   "outputs": [],
   "source": [
    "def nbOccurrences(texte, motif):\n",
    "    compteur = 0\n",
    "    position = texte.find(motif)\n",
    "    while position != -1:\n",
    "        compteur += 1\n",
    "        position = texte.find(motif, position + 1)\n",
    "    return compteur"
   ]
  },
  {
   "cell_type": "markdown",
   "metadata": {},
   "source": [
    "Exécuter le code ci-dessous pour vérifier votre fonction."
   ]
  },
  {
   "cell_type": "code",
   "execution_count": 10,
   "metadata": {},
   "outputs": [
    {
     "name": "stdout",
     "output_type": "stream",
     "text": [
      "Tests réussis\n"
     ]
    }
   ],
   "source": [
    "assert nbOccurrences(texte, \"Julien\") == 1908\n",
    "assert nbOccurrences(texte, \"Goldorak\") == 0\n",
    "assert nbOccurrences(texte, \"mort\") == 178\n",
    "print(\"Tests réussis\")"
   ]
  },
  {
   "cell_type": "markdown",
   "metadata": {},
   "source": [
    "# 2. Recherche naïve\n",
    "\n",
    "L’algorithme naïf consiste simplement à comparer un à un, de gauche à droite, les caractères du texte apparaissant dans la fenêtre\n",
    "avec ceux du motif. En cas de non-correspondance on avance simplement la fenêtre d’une unité vers la droite.\n",
    "Par exemple, dans la situation suivante,\n",
    "\n",
    "![](fig1.png)\n",
    "\n",
    "on compare le 'a' du motif avec le 'r' du texte, obtenant immédiatement une différence : on peut avancer la fenêtre en incrémentant\n",
    "i, qui passe de 14 à 15.\n",
    "\n",
    "Dans la nouvelle fenêtre, le premier caractère coïncide bien :\n",
    "\n",
    "![](fig2.png)\n",
    "\n",
    "et on incrémente j pour tester les caractères suivants, 'd' et 'c' :\n",
    "\n",
    "![](fig3.png)\n",
    "\n",
    "On est à nouveau en situation d’échec, et on effectue donc i = i + 1 et j = 0."
   ]
  },
  {
   "cell_type": "markdown",
   "metadata": {},
   "source": [
    "Compléter maintenant la fonction ``cherche_naif`` ci-dessous :"
   ]
  },
  {
   "cell_type": "code",
   "execution_count": 20,
   "metadata": {},
   "outputs": [],
   "source": [
    "def cherche_naif(texte, motif):\n",
    "    n = len(texte)\n",
    "    p = len(motif)\n",
    "    resultat = -1\n",
    "    i = 0\n",
    "    while i <= n-p and resultat == -1:\n",
    "        j = 0\n",
    "        while j < p and texte[i+j] == motif[j]:\n",
    "            j += 1\n",
    "        if j == p:\n",
    "            resultat = i\n",
    "        i += 1\n",
    "    return resultat"
   ]
  },
  {
   "cell_type": "code",
   "execution_count": 21,
   "metadata": {},
   "outputs": [
    {
     "name": "stdout",
     "output_type": "stream",
     "text": [
      "Tests réussis\n"
     ]
    }
   ],
   "source": [
    "# Test de la fonction cherche_naif\n",
    "assert cherche_naif(\"Julien Sorel\", \"Julien\") == 0\n",
    "assert cherche_naif(\"Julien Sorel\", \"Sorel\") == 7\n",
    "assert cherche_naif(\"Julien Sorel\", \"Julienne\") == -1\n",
    "assert cherche_naif(texte, \"Julien trembla\") == 162926\n",
    "print(\"Tests réussis\")"
   ]
  },
  {
   "cell_type": "markdown",
   "metadata": {},
   "source": [
    "# 3. Algorithme de Boyer et Moore\n",
    "\n",
    "On étudie en réalité une version simplifiée de cet algorithme, due à Nigel Horspool, né en Grande-Bretagne, mais citoyen canadien. Il est professeur émérite d’informatique de l’université de Victoria.\n",
    "\n",
    "La première idée consiste à comparer le motif avec la portion du texte qui apparaît dans la fenêtre de droite à gauche, et non pas de\n",
    "gauche à droite. Ainsi, on fait décroître ``j`` à partir de ``p − 1`` (``p`` représente toujours la longueur du motif) jusqu’à trouver que le caractère qui lui fait face dans le texte, c’est-à-dire ``x = texte[i + j]``, est différent du caractère ``y = motif[j]`` du motif.\n",
    "\n",
    "La deuxième idée consiste à opérer un décalage de la fenêtre qui varie en fonction de la paire de caractères qui ont révélé la\n",
    "non-correspondance, c’est-à-dire en fonction de ``(x; y)``.\n",
    "\n",
    "* Si le caractère ``x`` n’apparaît pas dans le motif, alors on peut décaler la fenêtre de ``p`` caractères vers la droite.\n",
    "* Si le caractère ``x`` apparaît dans le motif (mais pas en dernière position), alors on peut décaler la fenêtre afin de faire coïncider le ``x`` du motif et le ``x`` du texte."
   ]
  },
  {
   "cell_type": "markdown",
   "metadata": {},
   "source": [
    "## Exemple \"à la main\"\n",
    "\n",
    "Nous considérons ici la recherche du motif 'dab' dans le texte 'abracadabra'.\n",
    "\n",
    "Avec nos notations, ``p = 3``, ``n = 11`` et la première occurrence du motif dans le texte apparaît en position ``i = 6``.\n",
    "\n",
    "On commence avec la fenêtre tout à gauche, c’est-à-dire avec ``i = 0``.\n",
    "\n",
    "````\n",
    "abracadabra\n",
    "dab\n",
    "````\n",
    "\n",
    "Comme on commence à comparer de droite à gauche, c’est pour ``j = 2`` qu’il y a non-correspondance : ``motif[2]='b'`` est différent de ``'r'=texte[0 + 2]``.\n",
    "\n",
    "On note ``x ='r'`` le caractère du texte qui ne correspond pas à ``y ='b'`` le caractère du motif qui lui fait face.\n",
    "\n",
    "De combien peut-on décaler la fenêtre ? Comme ``x`` n’apparaît nulle part dans le motif, on peut carrément décaler le motif de ``p = 3``\n",
    "unités vers la droite !\n",
    "\n",
    "````\n",
    "abracadabra\n",
    "   dab\n",
    "````\n",
    "\n",
    "Ainsi on se retrouve avec ``i = 3`` et le premier échec intervient avec ``j = 2``, où le caractère ``x =texte[3 + 2]='a'`` du texte est\n",
    "distinct du caractère face à lui dans le motif, c’est-à-dire ``y =motif[2]='b'``.\n",
    "\n",
    "Mais à la différence du cas précédent, le caractère ``x`` apparaît bien dans le motif. On déplace donc la fenêtre d’une unité vers la droite.\n",
    "\n",
    "Voici la prochaine étape :\n",
    "\n",
    "````\n",
    "abracadabra\n",
    "    dab\n",
    "````\n",
    "\n",
    "``i = 4``; ``x ='d'`` ; ``y ='b'`` : on décale de 2 pour faire correspondre les deux 'd'.\n",
    "\n",
    "Finalement avec i = 6, on trouve la première occurrence du motif et l'algorithme se termine.\n",
    "\n",
    "````\n",
    "abracadabra\n",
    "      dab\n",
    "````"
   ]
  },
  {
   "cell_type": "markdown",
   "metadata": {},
   "source": [
    "## Exercice\n",
    "\n",
    "Dérouler à la main l'exécution de l'algorithme de Boyer et Moore pour la recherche du motif ``\"cavalier\"`` dans le texte ``\"“Le cheval court, le cavalier se vante”``."
   ]
  },
  {
   "cell_type": "markdown",
   "metadata": {},
   "source": [
    "## Programmation de l'algorithme\n",
    "\n",
    "On commence par calculer un dictionnaire dont les clés sont les caractères du motif et les valeurs l'indice de la position la plus à\n",
    "droite du caractère.\n",
    "\n",
    "C’est ce que réalise la fonction ``calculeADroite``.\n",
    "\n",
    "Dans le cas du mot ``maman``, par exemple, ce dictionnaire sera : ``{'m': 2, 'a': 3, 'n': 4}``.\n",
    "\n",
    "Compléter le code de la fonction ``calculeADroite``."
   ]
  },
  {
   "cell_type": "code",
   "execution_count": 9,
   "metadata": {},
   "outputs": [],
   "source": [
    "def calculeADroite(motif):\n",
    "    p = len(motif)\n",
    "    dico = {}\n",
    "    for j in range(p):\n",
    "        dico[motif[j]] = j\n",
    "    return dico"
   ]
  },
  {
   "cell_type": "code",
   "execution_count": 10,
   "metadata": {},
   "outputs": [
    {
     "name": "stdout",
     "output_type": "stream",
     "text": [
      "Tests réussis\n"
     ]
    }
   ],
   "source": [
    "# test de la fonction calculeADroite\n",
    "assert calculeADroite(\"Julien\") == {'J': 0, 'u': 1, 'l': 2, 'i': 3, 'e': 4, 'n': 5}\n",
    "assert calculeADroite(\"maman\") == {'m': 2, 'a': 3, 'n': 4}\n",
    "print(\"Tests réussis\")"
   ]
  },
  {
   "cell_type": "markdown",
   "metadata": {},
   "source": [
    "On peut maintenant compléter la fonction ``recherche_BMH`` pour appliquer les idées ci-dessus : on parcourt le motif de droite à gauche et on calcule le décalage en utilisant le dictionnaire créé par la fonction précédente."
   ]
  },
  {
   "cell_type": "code",
   "execution_count": 17,
   "metadata": {},
   "outputs": [],
   "source": [
    "def recherche_BMH(texte, motif):\n",
    "    n = len(texte)\n",
    "    p = len(motif)\n",
    "    dico = calculeADroite(motif)\n",
    "    i = 0\n",
    "    while i <= n - p:\n",
    "        j = p - 1\n",
    "        while j >= 0 and texte[i+j] == motif[j]:\n",
    "            j -= 1\n",
    "        if j == -1:\n",
    "            return i\n",
    "        else:\n",
    "            if texte[i+j] in dico:\n",
    "                i += max(1, j - dico[texte[i+j]])\n",
    "            else:\n",
    "                i += j + 1\n",
    "    return -1"
   ]
  },
  {
   "cell_type": "code",
   "execution_count": 18,
   "metadata": {},
   "outputs": [
    {
     "name": "stdout",
     "output_type": "stream",
     "text": [
      "Tests réussis\n"
     ]
    }
   ],
   "source": [
    "# test de la fonction recherche_BMH\n",
    "assert recherche_BMH(\"Julien Sorel\", \"Julien\") == 0\n",
    "assert recherche_BMH(\"Julien Sorel\", \"Sorel\") == 7\n",
    "assert recherche_BMH(\"Julien Sorel\", \"Julienne\") == -1\n",
    "assert recherche_BMH(texte, \"Julien trembla\") == 162926\n",
    "print(\"Tests réussis\")"
   ]
  },
  {
   "cell_type": "markdown",
   "metadata": {},
   "source": [
    "# 4. Comparaison expérimentale des deux algorithmes\n",
    "\n",
    "À l'aide du module ``timeit`` de Python, on peut comparer les performances des deux algorithmes."
   ]
  },
  {
   "cell_type": "code",
   "execution_count": 41,
   "metadata": {},
   "outputs": [
    {
     "name": "stdout",
     "output_type": "stream",
     "text": [
      "Temps de l'algorithme naïf : 3.2481508999990183\n",
      "Temps de l'algorithme BMH : 0.6167228000049363\n"
     ]
    }
   ],
   "source": [
    "# Comparaison des deux algorithmes avec timeit\n",
    "\n",
    "import timeit\n",
    "# Algorithme naïf\n",
    "temps_naif = timeit.timeit(\"cherche_naif(texte, 'Julien trembla')\", globals=globals(), number=100)\n",
    "print(\"Temps de l'algorithme naïf :\", temps_naif)\n",
    "\n",
    "# Algorithme de Boyer-Moore-Horspool\n",
    "temps_BMH = timeit.timeit(\"recherche_BMH(texte, 'Julien trembla')\", globals=globals(), number=100)\n",
    "print(\"Temps de l'algorithme BMH :\", temps_BMH)\n"
   ]
  }
 ],
 "metadata": {
  "kernelspec": {
   "display_name": "Python 3",
   "language": "python",
   "name": "python3"
  },
  "language_info": {
   "codemirror_mode": {
    "name": "ipython",
    "version": 3
   },
   "file_extension": ".py",
   "mimetype": "text/x-python",
   "name": "python",
   "nbconvert_exporter": "python",
   "pygments_lexer": "ipython3",
   "version": "3.12.0"
  }
 },
 "nbformat": 4,
 "nbformat_minor": 2
}
