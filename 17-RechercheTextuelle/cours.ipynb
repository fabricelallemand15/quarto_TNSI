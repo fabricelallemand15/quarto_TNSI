{
 "cells": [
  {
   "cell_type": "markdown",
   "metadata": {},
   "source": [
    "---\n",
    "subtitle: \"Chapitre 17 : Recherche textuelle\"\n",
    "title: \"Cours\"\n",
    "---\n",
    "\n",
    "# 1. Introduction\n"
   ]
  },
  {
   "cell_type": "code",
   "execution_count": null,
   "metadata": {},
   "outputs": [],
   "source": []
  }
 ],
 "metadata": {
  "language_info": {
   "name": "python"
  }
 },
 "nbformat": 4,
 "nbformat_minor": 2
}
